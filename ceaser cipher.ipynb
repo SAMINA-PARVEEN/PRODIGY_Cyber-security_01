{
 "cells": [
  {
   "cell_type": "code",
   "execution_count": 3,
   "id": "0af9ee7b",
   "metadata": {},
   "outputs": [
    {
     "name": "stdout",
     "output_type": "stream",
     "text": [
      "Caesar Cipher Program\n",
      "Encrypted message: ygsotg\n"
     ]
    }
   ],
   "source": [
    "def caesar_cipher(text, shift, mode='encrypt'):\n",
    "    result = ''\n",
    "    for char in text:\n",
    "        if char.isalpha():\n",
    "            # Shift based on uppercase or lowercase\n",
    "            base = ord('A') if char.isupper() else ord('a')\n",
    "            if mode == 'encrypt':\n",
    "                shifted = (ord(char) - base + shift) % 26 + base\n",
    "            elif mode == 'decrypt':\n",
    "                shifted = (ord(char) - base - shift) % 26 + base\n",
    "            result += chr(shifted)\n",
    "        else:\n",
    "            # Non-alphabetic characters remain unchanged\n",
    "            result += char\n",
    "    return result\n",
    "\n",
    "def main():\n",
    "    print(\"Caesar Cipher Program\")\n",
    "    choice = input(\"Do you want to (E)ncrypt or (D)ecrypt? \").strip().lower()\n",
    "    if choice not in ['e', 'd']:\n",
    "        print(\"Invalid choice. Use 'E' for encryption or 'D' for decryption.\")\n",
    "        return\n",
    "\n",
    "    message = input(\"Enter your message: \")\n",
    "    try:\n",
    "        shift = int(input(\"Enter shift value (integer): \"))\n",
    "    except ValueError:\n",
    "        print(\"Invalid shift value. It must be an integer.\")\n",
    "        return\n",
    "\n",
    "    if choice == 'e':\n",
    "        encrypted = caesar_cipher(message, shift, mode='encrypt')\n",
    "        print(f\"Encrypted message: {encrypted}\")\n",
    "    else:\n",
    "        decrypted = caesar_cipher(message, shift, mode='decrypt')\n",
    "        print(f\"Decrypted message: {decrypted}\")\n",
    "\n",
    "if __name__ == \"__main__\":\n",
    "    main()\n"
   ]
  }
 ],
 "metadata": {
  "kernelspec": {
   "display_name": "myenv",
   "language": "python",
   "name": "python3"
  },
  "language_info": {
   "codemirror_mode": {
    "name": "ipython",
    "version": 3
   },
   "file_extension": ".py",
   "mimetype": "text/x-python",
   "name": "python",
   "nbconvert_exporter": "python",
   "pygments_lexer": "ipython3",
   "version": "3.10.18"
  }
 },
 "nbformat": 4,
 "nbformat_minor": 5
}
